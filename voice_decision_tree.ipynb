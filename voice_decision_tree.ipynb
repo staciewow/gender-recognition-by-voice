{
 "cells": [
  {
   "cell_type": "code",
   "execution_count": 17,
   "metadata": {
    "collapsed": false
   },
   "outputs": [
    {
     "name": "stdout",
     "output_type": "stream",
     "text": [
      "(3168, 21)\n"
     ]
    }
   ],
   "source": [
    "from sklearn.cross_validation import train_test_split\n",
    "from sklearn.tree import DecisionTreeClassifier\n",
    "from matplotlib.colors import ListedColormap\n",
    "import matplotlib.pyplot as plt\n",
    "import numpy as np\n",
    "%matplotlib inline\n",
    "from sklearn import tree\n",
    "\n",
    "data = pd.read_csv('voice.csv', header = 0)\n",
    "print(data.shape)"
   ]
  },
  {
   "cell_type": "code",
   "execution_count": 21,
   "metadata": {
    "collapsed": false
   },
   "outputs": [
    {
     "name": "stdout",
     "output_type": "stream",
     "text": [
      "(3168, 20)\n",
      "(3168, 1)\n"
     ]
    }
   ],
   "source": [
    "X = pd.DataFrame.as_matrix(data.iloc[:,0:20])\n",
    "y = pd.DataFrame.as_matrix(data.iloc[:,20:21])\n",
    "print(X.shape)\n",
    "print(y.shape)\n"
   ]
  },
  {
   "cell_type": "code",
   "execution_count": 29,
   "metadata": {
    "collapsed": false
   },
   "outputs": [
    {
     "data": {
      "text/plain": [
       "0.98262243285939965"
      ]
     },
     "execution_count": 29,
     "metadata": {},
     "output_type": "execute_result"
    }
   ],
   "source": [
    "#decision tree 1: criterion = gini\n",
    "X_train, X_test, y_train, y_test = train_test_split(X, y, test_size=0.8, \n",
    "                                                    random_state=0)\n",
    "tree1 = DecisionTreeClassifier(criterion='gini', max_depth=3, random_state=25)\n",
    "tree1.fit(X_train, y_train)\n",
    "tree1.score(X_train, y_train)"
   ]
  },
  {
   "cell_type": "code",
   "execution_count": 34,
   "metadata": {
    "collapsed": false
   },
   "outputs": [
    {
     "data": {
      "text/plain": [
       "0.95779092702169621"
      ]
     },
     "execution_count": 34,
     "metadata": {},
     "output_type": "execute_result"
    }
   ],
   "source": [
    "from sklearn.metrics import accuracy_score\n",
    "pred1= tree1.predict(X_test)\n",
    "accuracy_score(y_test, pred1)"
   ]
  },
  {
   "cell_type": "code",
   "execution_count": 36,
   "metadata": {
    "collapsed": false
   },
   "outputs": [
    {
     "name": "stdout",
     "output_type": "stream",
     "text": [
      "0.982622432859\n"
     ]
    },
    {
     "data": {
      "text/plain": [
       "0.96489151873767254"
      ]
     },
     "execution_count": 36,
     "metadata": {},
     "output_type": "execute_result"
    }
   ],
   "source": [
    "#decision tree 2: criterion = entropy\n",
    "X_train, X_test, y_train, y_test = train_test_split(X, y, test_size=0.8, \n",
    "                                                    random_state=0)\n",
    "tree2 = DecisionTreeClassifier(criterion='entropy', max_depth=3, random_state=25)\n",
    "tree2.fit(X_train, y_train)\n",
    "print(tree2.score(X_train, y_train))\n",
    "\n",
    "from sklearn.metrics import accuracy_score\n",
    "pred2= tree2.predict(X_test)\n",
    "accuracy_score(y_test, pred2)"
   ]
  },
  {
   "cell_type": "code",
   "execution_count": null,
   "metadata": {
    "collapsed": false
   },
   "outputs": [],
   "source": []
  },
  {
   "cell_type": "code",
   "execution_count": null,
   "metadata": {
    "collapsed": false
   },
   "outputs": [],
   "source": []
  },
  {
   "cell_type": "code",
   "execution_count": null,
   "metadata": {
    "collapsed": true
   },
   "outputs": [],
   "source": []
  }
 ],
 "metadata": {
  "kernelspec": {
   "display_name": "Python 3",
   "language": "python",
   "name": "python3"
  },
  "language_info": {
   "codemirror_mode": {
    "name": "ipython",
    "version": 3
   },
   "file_extension": ".py",
   "mimetype": "text/x-python",
   "name": "python",
   "nbconvert_exporter": "python",
   "pygments_lexer": "ipython3",
   "version": "3.5.1"
  }
 },
 "nbformat": 4,
 "nbformat_minor": 0
}
